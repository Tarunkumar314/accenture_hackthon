{
 "cells": [
  {
   "cell_type": "code",
   "execution_count": null,
   "metadata": {
    "colab": {
     "base_uri": "https://localhost:8080/",
     "height": 452
    },
    "executionInfo": {
     "elapsed": 9605,
     "status": "ok",
     "timestamp": 1744378874282,
     "user": {
      "displayName": "Tarun Kumar Singh",
      "userId": "11797232037743457821"
     },
     "user_tz": -330
    },
    "id": "zf6RWghsEdR4",
    "outputId": "5cb1699d-5ad3-4e02-b151-0462f91e89e4"
   },
   "outputs": [],
   "source": [
    "# Step 1: Install required libraries\n",
    "!pip install -q pandas\n",
    "\n",
    "# Step 2: Import libraries\n",
    "import pandas as pd\n",
    "import sqlite3\n",
    "from google.colab import files\n",
    "\n",
    "# Step 3: Upload CSV file\n",
    "print(\"Please upload your job_description.csv file\")\n",
    "uploaded = files.upload()\n",
    "\n",
    "# Step 4: Load CSV with safe encoding\n",
    "df = pd.read_csv(\"job_description.csv\", encoding='ISO-8859-1')\n",
    "print(\"✅ File loaded successfully!\\n\")\n",
    "\n",
    "# Step 5: View the top 5 rows\n",
    "print(\"📌 Preview of the data:\")\n",
    "print(df.head())\n",
    "\n",
    "# Step 6: Display column names\n",
    "print(\"\\n📌 Column names:\")\n",
    "print(df.columns)\n",
    "\n",
    "# Step 7: Save to SQLite database\n",
    "conn = sqlite3.connect(\"job_data.db\")\n",
    "df.to_sql(\"job_descriptions\", conn, if_exists=\"replace\", index=False)\n",
    "conn.close()\n",
    "\n",
    "print(\"\\n✅ Data successfully saved to SQLite database named 'job_data.db'\")\n"
   ]
  },
  {
   "cell_type": "code",
   "execution_count": null,
   "metadata": {
    "colab": {
     "base_uri": "https://localhost:8080/"
    },
    "executionInfo": {
     "elapsed": 53,
     "status": "ok",
     "timestamp": 1744378954566,
     "user": {
      "displayName": "Tarun Kumar Singh",
      "userId": "11797232037743457821"
     },
     "user_tz": -330
    },
    "id": "ELqYpifTFdv7",
    "outputId": "b157d624-07b0-450a-d229-de342ff60a38"
   },
   "outputs": [],
   "source": [
    "# Step 8: Clean job descriptions\n",
    "df['Job Description'] = df['Job Description'].str.replace(r\"(?i)description:\\s*\", \"\", regex=True)\n",
    "df['Job Description'] = df['Job Description'].str.replace(r\"\\n\", \" \", regex=True)\n",
    "\n",
    "# Display cleaned version\n",
    "print(\"✅ Cleaned job descriptions:\")\n",
    "print(df['Job Description'].head())\n"
   ]
  },
  {
   "cell_type": "code",
   "execution_count": null,
   "metadata": {
    "colab": {
     "base_uri": "https://localhost:8080/",
     "height": 573,
     "referenced_widgets": [
      "b0cc03d37d9544fd9f33a0ff15e54955",
      "b2ca2af3812042f4a049950d5654662d",
      "504bf7ce33eb4cd4afb5bd9a825cfc50",
      "2eac26bd77c149f8b2d55e6b26d49980",
      "91150cf61b0044419239d3cb67a39fc9",
      "a643358469594309b82b564af76690e9",
      "e2c4ed7ce0e9408cabdbb0a0f5bd1313",
      "93c58c82fdf94a1a92717c7ec45f99dd",
      "f852e40584ea41cda683c7f976e22088",
      "c8643f316669495d8ba85ba26f724bab",
      "7b8962db99dc404d81ffcc39e3fe55b5",
      "e8e6303a07444c249d814b9265884b5c",
      "8f7a89d9ee7749438f521b767f7fb943",
      "d3899e33bf1e4541b51b39be17c352cb",
      "59ba6a4c082249a1b6f275c1f5819937",
      "3ec21e07994340f7822ffdfaf4bad5c2",
      "1eec36f22a7f4f3d824918e7830b4a83",
      "603122257a0c45b0aa32cbfcfc161d5b",
      "eee22ce1a5d94e229f201e30b2e0601a",
      "8f6f89e1312e4d33872d8acfffa94cea",
      "410bf372e1134888803a812ec40ed7af",
      "f1cbca90b4c94fa4a93392b77c92988e",
      "da51ab0f7bb848f389fde0d1e6dd4111",
      "8a76db4be55245a8b27cb2be84adac30",
      "dd3266791a154c9d8a4c2749a554e8bf",
      "4eae55228ed3491f9f16dbc4c3ad8e93",
      "f031ac425eb44c04898074d0a30f4bf7",
      "0dd26ac854764a01b9dde0706413c44f",
      "f0c9ed18c5844ad3858a71c709691672",
      "ed8276b5e89c4793bdca4637158ccf90",
      "6c17f45a82004581b7775351be765114",
      "af13a0b1c2c043498e3e8cbff584a190",
      "bac2ae5c21f24d0fa8158a09ab02e40a",
      "35f9a1c66a1d4353a230dcd7135f4003",
      "0d6727ec28f94a9988e18ebbcdba535e",
      "3acf766563ff43beaec5b83668e3b072",
      "2b7d28221ca247e9bca7595b75f34c12",
      "ce4d3c0e77094bdbadf391ad7ced70a4",
      "abe81aedb57b4062ad6b79cdcc89a7ae",
      "3b9e52cb47ae4ff1b241bff6454d4f89",
      "607fa0a723864804a27437e7b263438a",
      "954599c447624b3cbe0a7fa973eed438",
      "4d4d65a3273c4f5ba483bf3f94b55f37",
      "6714f796eb6d468d9519d4f27e68bee3",
      "f6ef6f31fba048859543ba989dc9ca83",
      "5b785619f7b443d8b8f75d61e567c17b",
      "d3b72a5d70e14eff8272f0ddcab9804a",
      "db5b2191e72940f09105fd6a56260f22",
      "645ca25eed02416ca363015347ecf4e7",
      "68b36ac4f36247a0bfc1bd54e3fed776",
      "0739a2dc42dd4b3e831a025ca793eeaf",
      "fd09b7a56534438296c88c2819e9abf4",
      "1734e36e3de54b90a3b0371c962ed2ec",
      "3069f8eaf71c455d896232c3c8bea21c",
      "a057b1b96c8c40579e0ea6469acbb1b4",
      "67ad12df19974a779b5f61a69f1cf02f",
      "a85113c7f4e343739bbb08286c57cf36",
      "d0be015bf3fb42c2bc46795361fb7eab",
      "c1e7e402a8804c80b85f634a2165eb7a",
      "fd86bfd185564523aa4de497692992a2",
      "07c69bb0022743bc893d4a5f20f09f58",
      "6470210ef06b4544bb139ada4f8376fc",
      "2627fbad3ee54456a1ca318ecb8374a8",
      "4e6800a2625546ebb4e6449396dc3d34",
      "97e8938dc58145708b9914bebb200b0f",
      "51c06e2e7bdb4fbb85db2a155a24787a",
      "2131c4e0049f4627a84a5746284a11a5",
      "0ada9b2604ad480fa4fb0a25416d3ac3",
      "ca7cefb6916a4808b112c9b8e792d69d",
      "a9dda6edd8ed4208b08ed1751344466e",
      "d96c327e032e49ddb810c790acf72383",
      "503d3a683ea548e38f20687c7a069555",
      "f389c1cabdc649d99bf2a65fb53bfd29",
      "f888173c0af54dc5b1de9e59580afa1b",
      "3d8801646fff4282a92f8e9bd5152c46",
      "730bd2f59e5b4084b9d3b981e1a2cea5",
      "49c44e5335e14b8f98dc12a042f6ec10"
     ]
    },
    "executionInfo": {
     "elapsed": 81896,
     "status": "ok",
     "timestamp": 1744379063303,
     "user": {
      "displayName": "Tarun Kumar Singh",
      "userId": "11797232037743457821"
     },
     "user_tz": -330
    },
    "id": "_gWCEMTYFt77",
    "outputId": "79ecb050-a01c-45c8-bc1f-fecb3713562a"
   },
   "outputs": [],
   "source": [
    "# Step 9: Install transformers and summarization model\n",
    "!pip install -q transformers sentencepiece\n",
    "\n",
    "from transformers import pipeline\n",
    "\n",
    "# Load summarizer (Flan-T5)\n",
    "summarizer = pipeline(\"summarization\", model=\"google/flan-t5-small\", tokenizer=\"google/flan-t5-small\")\n",
    "\n",
    "# Summarize each JD (truncated if too long for model)\n",
    "def summarize_text(text):\n",
    "    try:\n",
    "        return summarizer(text[:512], max_length=60, min_length=20, do_sample=False)[0]['summary_text']\n",
    "    except:\n",
    "        return \"Summary failed\"\n",
    "\n",
    "df['Summary'] = df['Job Description'].apply(summarize_text)\n",
    "\n",
    "# Show summaries\n",
    "print(\"✅ Summarized JDs:\")\n",
    "print(df[['Job Title', 'Summary']].head())\n"
   ]
  },
  {
   "cell_type": "code",
   "execution_count": null,
   "metadata": {
    "colab": {
     "base_uri": "https://localhost:8080/"
    },
    "executionInfo": {
     "elapsed": 9,
     "status": "ok",
     "timestamp": 1744379082058,
     "user": {
      "displayName": "Tarun Kumar Singh",
      "userId": "11797232037743457821"
     },
     "user_tz": -330
    },
    "id": "DdjeiYfVGGaJ",
    "outputId": "c9619cd8-ab64-416d-c6c2-96b850eaf3d3"
   },
   "outputs": [],
   "source": [
    "# Save updated DataFrame (with summaries) into database\n",
    "conn = sqlite3.connect(\"job_data.db\")\n",
    "df.to_sql(\"job_descriptions\", conn, if_exists=\"replace\", index=False)\n",
    "conn.close()\n",
    "\n",
    "print(\"\\n✅ Summaries saved to SQLite database.\")\n"
   ]
  },
  {
   "cell_type": "code",
   "execution_count": null,
   "metadata": {
    "colab": {
     "base_uri": "https://localhost:8080/",
     "height": 88
    },
    "executionInfo": {
     "elapsed": 7005,
     "status": "ok",
     "timestamp": 1744379243536,
     "user": {
      "displayName": "Tarun Kumar Singh",
      "userId": "11797232037743457821"
     },
     "user_tz": -330
    },
    "id": "5yjUY7w8GShz",
    "outputId": "cd56c3a9-c664-47c3-b27d-abc7c81a6947"
   },
   "outputs": [],
   "source": [
    "from google.colab import files\n",
    "\n",
    "print(\"📂 Upload your CV PDFs (you can select multiple files)\")\n",
    "uploaded = files.upload()\n"
   ]
  },
  {
   "cell_type": "code",
   "execution_count": null,
   "metadata": {
    "colab": {
     "base_uri": "https://localhost:8080/"
    },
    "executionInfo": {
     "elapsed": 5420,
     "status": "ok",
     "timestamp": 1744379261512,
     "user": {
      "displayName": "Tarun Kumar Singh",
      "userId": "11797232037743457821"
     },
     "user_tz": -330
    },
    "id": "ntI76ETYGxG3",
    "outputId": "7acd7551-19e9-4b43-bc43-bd8c636da9ed"
   },
   "outputs": [],
   "source": [
    "!pip install -q PyMuPDF\n",
    "import fitz  # PyMuPDF\n",
    "\n",
    "def extract_text_from_pdf(file_path):\n",
    "    text = \"\"\n",
    "    with fitz.open(file_path) as doc:\n",
    "        for page in doc:\n",
    "            text += page.get_text()\n",
    "    return text\n",
    "\n",
    "# Create a dictionary with filenames and their extracted text\n",
    "cv_texts = {}\n",
    "for filename in uploaded:\n",
    "    cv_texts[filename] = extract_text_from_pdf(filename)\n",
    "\n",
    "# Preview one CV's extracted text\n",
    "first_cv = list(cv_texts.items())[0]\n",
    "print(f\"\\n📄 Extracted text from {first_cv[0]}:\\n\")\n",
    "print(first_cv[1][:1000])  # Print only first 1000 characters\n"
   ]
  },
  {
   "cell_type": "code",
   "execution_count": null,
   "metadata": {
    "colab": {
     "base_uri": "https://localhost:8080/"
    },
    "executionInfo": {
     "elapsed": 54,
     "status": "ok",
     "timestamp": 1744379356645,
     "user": {
      "displayName": "Tarun Kumar Singh",
      "userId": "11797232037743457821"
     },
     "user_tz": -330
    },
    "id": "c9DPk2TPHJgn",
    "outputId": "48c629a2-1f57-40fe-ef64-3bbfa3fd1e04"
   },
   "outputs": [],
   "source": [
    "import re\n",
    "\n",
    "def extract_cv_sections(cv_text):\n",
    "    sections = {\n",
    "        \"name\": None,\n",
    "        \"email\": None,\n",
    "        \"education\": [],\n",
    "        \"experience\": [],\n",
    "        \"skills\": [],\n",
    "        \"certifications\": []\n",
    "    }\n",
    "\n",
    "    # Extract name\n",
    "    name_match = re.search(r\"Name:\\s*(.+)\", cv_text)\n",
    "    sections[\"name\"] = name_match.group(1).strip() if name_match else None\n",
    "\n",
    "    # Extract email\n",
    "    email_match = re.search(r\"Email:\\s*(\\S+@\\S+)\", cv_text)\n",
    "    sections[\"email\"] = email_match.group(1).strip() if email_match else None\n",
    "\n",
    "    # Extract education\n",
    "    edu_match = re.findall(r\"(Bachelor|Master).+?\\((\\d{4}-\\d{4})\\)\", cv_text)\n",
    "    sections[\"education\"] = [\" \".join(match) for match in edu_match]\n",
    "\n",
    "    # Extract work experience\n",
    "    exp_match = re.findall(r\"(?<=at\\s).+?\\((\\d{4}-\\d{4})\\)\", cv_text)\n",
    "    job_titles = re.findall(r\"(?<=\\n)[A-Z][a-z]+\\s(?:Manager|Engineer|Analyst|Developer)\", cv_text)\n",
    "    sections[\"experience\"] = [f\"{title} ({exp})\" for title, exp in zip(job_titles, exp_match)]\n",
    "\n",
    "    # Extract skills\n",
    "    skill_match = re.search(r\"Skills\\s*(.*?)(?=Certifications|$)\", cv_text, re.S)\n",
    "    if skill_match:\n",
    "        skills_block = skill_match.group(1)\n",
    "        sections[\"skills\"] = [s.strip() for s in re.split(r\"[-•]\", skills_block) if len(s.strip()) > 2]\n",
    "\n",
    "    # Extract certifications\n",
    "    cert_match = re.search(r\"Certifications\\s*(.*)\", cv_text, re.S)\n",
    "    if cert_match:\n",
    "        certifications_block = cert_match.group(1)\n",
    "        sections[\"certifications\"] = [s.strip() for s in certifications_block.splitlines() if s.strip()]\n",
    "\n",
    "    return sections\n",
    "\n",
    "cv_data = extract_cv_sections(first_cv[1])\n",
    "for k, v in cv_data.items():\n",
    "    print(f\"🔹 {k.capitalize()}: {v}\")\n"
   ]
  },
  {
   "cell_type": "code",
   "execution_count": null,
   "metadata": {
    "colab": {
     "base_uri": "https://localhost:8080/",
     "height": 597,
     "referenced_widgets": [
      "f6d85cd22d0e4d6faf5d90f041263be1",
      "77e9aae3dec14a7cbb27ae12b5faab6a",
      "2e49473797a947c1a9a54fa48aa1236b",
      "0514fc6a5899463d9cf32296a633d6ff",
      "dfd786498bab419d99d1d88f15b7f0a5",
      "46616104565b4f389da2e9206be94ac9",
      "c2708b1ee4b04a1fbfbecdf287350797",
      "e493023948e74c8a993344cdd9815695",
      "ce41031fac184141b524795663328367",
      "ceca9c8d908145ea880d778c749e16f6",
      "90221c7a48c04159871ca5289bf32230",
      "1f27296cbeef47c6bc5ee474bec50d65",
      "ada2e11a5a384a17b4b0e6799a96c592",
      "1f66e38161eb4bdeaa1b75e494db7e0b",
      "3726f8af33554465b4daafa988181bd4",
      "260a2bd9d6f54dcb9cc21271c02a3461",
      "0f5777672a9a4323821694325b0bb2f8",
      "9f78635697464d5987820622e0c323e4",
      "6e3e11a9e9da4549897f3e408a672c1a",
      "56ec60372d0547a7ab73bd2d1dd86c01",
      "81558b635b894f44a9e6104bfeb3e594",
      "7aef03f90daf43a4b02a1ee2de7ebcab",
      "0a385ebd24d2466e9ab35ea86adec5d1",
      "96ba521ff59a4bef9def9995638149ee",
      "450b1177178049aaae4ff8cc0ee52a11",
      "1c796314d234436691c249c0c061ef30",
      "a79669b269c74f2893dd03a90147c06c",
      "676f2c320ef1443e9b62ab8db1bdda03",
      "c612d7e9dfb64834bbe296859fc3e729",
      "497a857893384d82af78a9f9ae8063c6",
      "acf1fa6c1f46461e96e240e250648934",
      "55914f55fb11480183d555850394e371",
      "2ccae5c103024265a4ebdb2e47b57a7f",
      "4081467d6f4046eeaa9f4e015a60905e",
      "e7148921cd3e4d84850acb0e07f91394",
      "db49b05c7d77415c85cf934ff28b349f",
      "948c1ebe10784eb38481b697e686d55f",
      "1aca77f5a77a48e083c3d0e34919f474",
      "edbb665d0eb4452e966dc4727b8c7cd6",
      "c918885b01444088bce0925e72deeec6",
      "a7424e4389ea4ce0a0f4897b94f528f4",
      "0753425074f44001be1bc34504098065",
      "896da15de6c14ac3a1d55dfe3d27d0c1",
      "2a73a1d896ee4c9fbea40c646a3a3280",
      "95b9b4051eba426d980ddf15ed334f60",
      "157041cf17204d04bc7834c5c2c77c1b",
      "c0b6255d838547269548619ffe679999",
      "40287d0f1538497a8811ccd2c7a619b9",
      "0c5a4819fc554e9094c08384423c58e4",
      "c9d7d394ccd64535986bb2d6ac0188e0",
      "738f398558784cfe9c28d499d5837aac",
      "5a0407a9153f43b2a16d1e626ac15793",
      "2076df9550ec45298bf559bdb02ae545",
      "36dd9060639e4596bfe205057447f9af",
      "cb7412e120cb4dc5bf6be163eec40c54",
      "0b6657eba9cf4d968c185f0665e35fb1",
      "300e112e63dc44e0abbe3830252265c6",
      "5497b12aee3d47d8a463d0222ecdb287",
      "e92a610aaaed4135bb653954305c85d0",
      "a91c3add39c5453eb1c70478db5df1e2",
      "a0ccc25602e74e29957f15809f08531b",
      "7362970adae8478c9935114174b1451d",
      "0f23f294366b4425b4d58c759b437b9e",
      "a4c73a4b637645bfa0f5ec642e5840c7",
      "16d034b56d564d26b2b64148dbf5035a",
      "46612a5279f240b6b3c7315d17fa6da5",
      "2e38c85bdd7a4761a98750a6305c81a8",
      "cdd1c2c24d5f414496d710690ab31a03",
      "25aece31a8d84366942e979ce9df75f1",
      "32a4f9f9ff5648f0b5987a964af32f6f",
      "734f82f489614bf4a81b6ff852901985",
      "f2e8055adcd34d8d83bd3b90187cc2b0",
      "e0fdb53ca3f94722862cd5d344c40fce",
      "f46bccfeda4c471da5f917fc22dda3cb",
      "f4690e34e8aa42dd98b6593969858880",
      "894570a7fa2a48fd89d2bb4f1d72407a",
      "e16109e9c2d842239b80d2b8a9a2a23b",
      "d0a68d07828e48249a5a79aa5f3ddf7b",
      "1c2f17efbfda48499d53c2dc5ff91bea",
      "36d7071dea814f379841a7b1f1eb5314",
      "69ea2a111f944728af91f2f41f71cd91",
      "625c6adfb4b9420ab6f0f6e2ffbcddf9",
      "198d74d0f15f4864b16e7d4785e332c3",
      "23c4ebdeff2a4ddf8e6ac586aac4baf3",
      "356f773f9402462289f5d1c789265026",
      "fd60536c93a4482e88856e1667232cf4",
      "30140099f90c4eaba66cd2b4052eb296",
      "b95a956bd83c4064917d2bcd3f244d8f",
      "4c92fefa0e6940d3be4884564382f43f",
      "4c710e314d044abeadafb9bd33892afc",
      "21c24bff9d73485da55101817cfb331a",
      "1502f1e8295d452f8822908a874d0d43",
      "5edaf35a733e41bcb6e9559248175bb3",
      "f630ae7589b448c2bdd71d648eab5c48",
      "1bf746cc9ebd40d0849badfc67e81461",
      "504e03bf86ba46949965cda077e2f4e9",
      "0828cdf3a66b4d70933ead67cc1fffef",
      "20ab08c458734e50aa9adf1dc552e522",
      "799709f7a51e46b9bf919b7fccbb5d53",
      "4524032849f0409993e9897fd3632acb",
      "2a1688c592ed406e81a8668da35db42a",
      "09062d8e88b3468895ab9820eda3e104",
      "159f76cd44c24edea0bd788564a39e92",
      "0651a5f92a344fba99fb046514f96291",
      "cf459c8223ae4c5093141960a001d977",
      "013145175e114af2a4b61318eb4d33ab",
      "c163e04e7ca3485687f4398d8a624d50",
      "d389616c0b974a7e91b60b91995ac803",
      "e78204d9c4dc488b9e2dbb12ce54e8d0",
      "22d53a65a1ae4fddb4c19699a1ea3fcc",
      "da32cc522df64a6a8ebbf3021aaddce3",
      "1bfa15acc4d647159773a99814144198",
      "8260731b1f1f44c992edd1c77495d763",
      "9794401f4ff04f8e97ca387b98a94a03",
      "b34cb0b88705471e9195fe001584f818",
      "31c3b083a4ec42278779e3d4170a7bcb",
      "302a379342ce4a24a834fcf9bfea1ee3",
      "bb3a27bf2d6a4832a38641ee7bc9a619",
      "5ccc51e9590f448d835b7f6acda22365",
      "15b870dc946740fa94af2b621c267a26",
      "cc109b73c3034bce8d5b9b4bf84da0d2"
     ]
    },
    "executionInfo": {
     "elapsed": 115200,
     "status": "ok",
     "timestamp": 1744379542959,
     "user": {
      "displayName": "Tarun Kumar Singh",
      "userId": "11797232037743457821"
     },
     "user_tz": -330
    },
    "id": "7xloWsEQHbCm",
    "outputId": "021955c9-b2de-47cb-fc32-d047718cf2bf"
   },
   "outputs": [],
   "source": [
    "!pip install -q sentence-transformers\n",
    "from sentence_transformers import SentenceTransformer, util\n",
    "\n",
    "# Load lightweight but powerful model\n",
    "model = SentenceTransformer('distilbert-base-nli-stsb-mean-tokens')\n"
   ]
  },
  {
   "cell_type": "code",
   "execution_count": null,
   "metadata": {
    "colab": {
     "base_uri": "https://localhost:8080/"
    },
    "executionInfo": {
     "elapsed": 936,
     "status": "ok",
     "timestamp": 1744379549722,
     "user": {
      "displayName": "Tarun Kumar Singh",
      "userId": "11797232037743457821"
     },
     "user_tz": -330
    },
    "id": "WaiKUufzHvKv",
    "outputId": "f142e17d-1df0-46cc-d4a8-68ccad3d5108"
   },
   "outputs": [],
   "source": [
    "# Combine candidate sections\n",
    "candidate_profile = \" \".join(cv_data['education'] + cv_data['experience'] + cv_data['skills'] + cv_data['certifications'])\n",
    "\n",
    "# Pick a sample job description from the DataFrame\n",
    "jd_text = df['Job Description'].iloc[0]  # You can loop through all later\n",
    "\n",
    "# Generate embeddings\n",
    "cv_embedding = model.encode(candidate_profile, convert_to_tensor=True)\n",
    "jd_embedding = model.encode(jd_text, convert_to_tensor=True)\n",
    "\n",
    "# Compute similarity\n",
    "similarity_score = util.pytorch_cos_sim(cv_embedding, jd_embedding).item()\n",
    "print(f\"\\n📊 Semantic Similarity Score with JD 1: {similarity_score:.4f}\")\n"
   ]
  },
  {
   "cell_type": "code",
   "execution_count": null,
   "metadata": {
    "colab": {
     "base_uri": "https://localhost:8080/"
    },
    "executionInfo": {
     "elapsed": 11,
     "status": "ok",
     "timestamp": 1744379553099,
     "user": {
      "displayName": "Tarun Kumar Singh",
      "userId": "11797232037743457821"
     },
     "user_tz": -330
    },
    "id": "vLYF5xbaHy0U",
    "outputId": "b910a341-dd03-47c0-9c8d-336860901aca"
   },
   "outputs": [],
   "source": [
    "if similarity_score >= 0.8:\n",
    "    print(\"✅ Candidate shortlisted for interview!\")\n",
    "else:\n",
    "    print(\"❌ Candidate does not meet the threshold.\")\n"
   ]
  },
  {
   "cell_type": "code",
   "execution_count": null,
   "metadata": {
    "executionInfo": {
     "elapsed": 5304,
     "status": "ok",
     "timestamp": 1744379761194,
     "user": {
      "displayName": "Tarun Kumar Singh",
      "userId": "11797232037743457821"
     },
     "user_tz": -330
    },
    "id": "gTfDfi9_IrFV"
   },
   "outputs": [],
   "source": [
    "import sqlite3\n",
    "import pandas as pd\n",
    "from sentence_transformers import SentenceTransformer\n",
    "\n",
    "model = SentenceTransformer('distilbert-base-nli-stsb-mean-tokens')\n",
    "\n",
    "# Load JD DataFrame (already loaded)\n",
    "df['embedding'] = df['Job Description'].apply(lambda x: model.encode(x))\n",
    "\n",
    "# Save JD embeddings to SQLite\n",
    "conn = sqlite3.connect('job_data.db')\n",
    "df.to_sql('job_descriptions', conn, if_exists='replace', index=False)\n",
    "conn.close()\n"
   ]
  }
 ],
 "metadata": {
  "colab": {
   "authorship_tag": "ABX9TyP+V+Q7KmKt1/2cLgd4RvN/",
   "provenance": []
  },
  "kernelspec": {
   "display_name": "Python 3",
   "name": "python3"
  },
  "language_info": {
   "name": "python"
  }
 },
 "nbformat": 4,
 "nbformat_minor": 0
}
